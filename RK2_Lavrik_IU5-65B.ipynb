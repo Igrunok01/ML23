{
 "cells": [
  {
   "cell_type": "markdown",
   "metadata": {
    "id": "pNqv6K-sGdDX"
   },
   "source": [
    "# РК №2 Лаврик Даниил Дмитриевич ИУ5-65Б Вариант 8\n",
    "\n",
    "Задание. Для заданного набора данных (googleplaystore.csv) постройте модели классификации или регрессии (в зависимости от конкретной задачи, рассматриваемой в наборе данных). Для построения моделей используйте методы 1 и 2 (1:Метод опорных векторов, 2:Градиентный бустинг). Оцените качество моделей на основе подходящих метрик качества (не менее двух метрик). Какие метрики качества Вы использовали и почему? Какие выводы Вы можете сделать о качестве построенных моделей? Для построения моделей необходимо выполнить требуемую предобработку данных: заполнение пропусков, кодирование категориальных признаков, и т.д."
   ]
  },
  {
   "cell_type": "code",
   "execution_count": 1,
   "metadata": {
    "id": "J9ChwmmEGTdQ"
   },
   "outputs": [],
   "source": [
    "import pandas as pd\n",
    "from sklearn.preprocessing import LabelEncoder\n",
    "import numpy as np\n",
    "import seaborn as sns\n",
    "import matplotlib.pyplot as plt\n",
    "from sklearn.model_selection import train_test_split\n",
    "from sklearn.metrics import r2_score, mean_squared_error\n",
    "from sklearn.ensemble import GradientBoostingRegressor\n",
    "from sklearn import svm"
   ]
  },
  {
   "cell_type": "markdown",
   "metadata": {
    "id": "DMzhegSqa01A"
   },
   "source": [
    "Проведем предварительную подготовку датасета: удаление пропусков + кодирование категориальных признаков"
   ]
  },
  {
   "cell_type": "code",
   "execution_count": 2,
   "metadata": {
    "id": "v0_qXn-cOJLV"
   },
   "outputs": [],
   "source": [
    "data = pd.read_csv(\"googleplaystore.csv\")"
   ]
  },
  {
   "cell_type": "code",
   "execution_count": 3,
   "metadata": {
    "colab": {
     "base_uri": "https://localhost:8080/",
     "height": 617
    },
    "id": "4Am8CcVrOT5A",
    "outputId": "4d7d622d-8627-4ef3-a3cd-ec488a325168"
   },
   "outputs": [
    {
     "data": {
      "text/html": [
       "<div>\n",
       "<style scoped>\n",
       "    .dataframe tbody tr th:only-of-type {\n",
       "        vertical-align: middle;\n",
       "    }\n",
       "\n",
       "    .dataframe tbody tr th {\n",
       "        vertical-align: top;\n",
       "    }\n",
       "\n",
       "    .dataframe thead th {\n",
       "        text-align: right;\n",
       "    }\n",
       "</style>\n",
       "<table border=\"1\" class=\"dataframe\">\n",
       "  <thead>\n",
       "    <tr style=\"text-align: right;\">\n",
       "      <th></th>\n",
       "      <th>App</th>\n",
       "      <th>Category</th>\n",
       "      <th>Rating</th>\n",
       "      <th>Reviews</th>\n",
       "      <th>Size</th>\n",
       "      <th>Installs</th>\n",
       "      <th>Type</th>\n",
       "      <th>Price</th>\n",
       "      <th>Content Rating</th>\n",
       "      <th>Genres</th>\n",
       "      <th>Last Updated</th>\n",
       "      <th>Current Ver</th>\n",
       "      <th>Android Ver</th>\n",
       "    </tr>\n",
       "  </thead>\n",
       "  <tbody>\n",
       "    <tr>\n",
       "      <th>0</th>\n",
       "      <td>Photo Editor &amp; Candy Camera &amp; Grid &amp; ScrapBook</td>\n",
       "      <td>ART_AND_DESIGN</td>\n",
       "      <td>4.1</td>\n",
       "      <td>159</td>\n",
       "      <td>19M</td>\n",
       "      <td>10,000+</td>\n",
       "      <td>Free</td>\n",
       "      <td>0</td>\n",
       "      <td>Everyone</td>\n",
       "      <td>Art &amp; Design</td>\n",
       "      <td>January 7, 2018</td>\n",
       "      <td>1.0.0</td>\n",
       "      <td>4.0.3 and up</td>\n",
       "    </tr>\n",
       "    <tr>\n",
       "      <th>1</th>\n",
       "      <td>Coloring book moana</td>\n",
       "      <td>ART_AND_DESIGN</td>\n",
       "      <td>3.9</td>\n",
       "      <td>967</td>\n",
       "      <td>14M</td>\n",
       "      <td>500,000+</td>\n",
       "      <td>Free</td>\n",
       "      <td>0</td>\n",
       "      <td>Everyone</td>\n",
       "      <td>Art &amp; Design;Pretend Play</td>\n",
       "      <td>January 15, 2018</td>\n",
       "      <td>2.0.0</td>\n",
       "      <td>4.0.3 and up</td>\n",
       "    </tr>\n",
       "    <tr>\n",
       "      <th>2</th>\n",
       "      <td>U Launcher Lite – FREE Live Cool Themes, Hide ...</td>\n",
       "      <td>ART_AND_DESIGN</td>\n",
       "      <td>4.7</td>\n",
       "      <td>87510</td>\n",
       "      <td>8.7M</td>\n",
       "      <td>5,000,000+</td>\n",
       "      <td>Free</td>\n",
       "      <td>0</td>\n",
       "      <td>Everyone</td>\n",
       "      <td>Art &amp; Design</td>\n",
       "      <td>August 1, 2018</td>\n",
       "      <td>1.2.4</td>\n",
       "      <td>4.0.3 and up</td>\n",
       "    </tr>\n",
       "    <tr>\n",
       "      <th>3</th>\n",
       "      <td>Sketch - Draw &amp; Paint</td>\n",
       "      <td>ART_AND_DESIGN</td>\n",
       "      <td>4.5</td>\n",
       "      <td>215644</td>\n",
       "      <td>25M</td>\n",
       "      <td>50,000,000+</td>\n",
       "      <td>Free</td>\n",
       "      <td>0</td>\n",
       "      <td>Teen</td>\n",
       "      <td>Art &amp; Design</td>\n",
       "      <td>June 8, 2018</td>\n",
       "      <td>Varies with device</td>\n",
       "      <td>4.2 and up</td>\n",
       "    </tr>\n",
       "    <tr>\n",
       "      <th>4</th>\n",
       "      <td>Pixel Draw - Number Art Coloring Book</td>\n",
       "      <td>ART_AND_DESIGN</td>\n",
       "      <td>4.3</td>\n",
       "      <td>967</td>\n",
       "      <td>2.8M</td>\n",
       "      <td>100,000+</td>\n",
       "      <td>Free</td>\n",
       "      <td>0</td>\n",
       "      <td>Everyone</td>\n",
       "      <td>Art &amp; Design;Creativity</td>\n",
       "      <td>June 20, 2018</td>\n",
       "      <td>1.1</td>\n",
       "      <td>4.4 and up</td>\n",
       "    </tr>\n",
       "  </tbody>\n",
       "</table>\n",
       "</div>"
      ],
      "text/plain": [
       "                                                 App        Category  Rating  \\\n",
       "0     Photo Editor & Candy Camera & Grid & ScrapBook  ART_AND_DESIGN     4.1   \n",
       "1                                Coloring book moana  ART_AND_DESIGN     3.9   \n",
       "2  U Launcher Lite – FREE Live Cool Themes, Hide ...  ART_AND_DESIGN     4.7   \n",
       "3                              Sketch - Draw & Paint  ART_AND_DESIGN     4.5   \n",
       "4              Pixel Draw - Number Art Coloring Book  ART_AND_DESIGN     4.3   \n",
       "\n",
       "  Reviews  Size     Installs  Type Price Content Rating  \\\n",
       "0     159   19M      10,000+  Free     0       Everyone   \n",
       "1     967   14M     500,000+  Free     0       Everyone   \n",
       "2   87510  8.7M   5,000,000+  Free     0       Everyone   \n",
       "3  215644   25M  50,000,000+  Free     0           Teen   \n",
       "4     967  2.8M     100,000+  Free     0       Everyone   \n",
       "\n",
       "                      Genres      Last Updated         Current Ver  \\\n",
       "0               Art & Design   January 7, 2018               1.0.0   \n",
       "1  Art & Design;Pretend Play  January 15, 2018               2.0.0   \n",
       "2               Art & Design    August 1, 2018               1.2.4   \n",
       "3               Art & Design      June 8, 2018  Varies with device   \n",
       "4    Art & Design;Creativity     June 20, 2018                 1.1   \n",
       "\n",
       "    Android Ver  \n",
       "0  4.0.3 and up  \n",
       "1  4.0.3 and up  \n",
       "2  4.0.3 and up  \n",
       "3    4.2 and up  \n",
       "4    4.4 and up  "
      ]
     },
     "execution_count": 3,
     "metadata": {},
     "output_type": "execute_result"
    }
   ],
   "source": [
    "data.head()"
   ]
  },
  {
   "cell_type": "code",
   "execution_count": 4,
   "metadata": {
    "colab": {
     "base_uri": "https://localhost:8080/"
    },
    "id": "Y8U2R27FOV1K",
    "outputId": "ca589c25-b52a-4aa9-8191-d7449616a5a8"
   },
   "outputs": [
    {
     "data": {
      "text/plain": [
       "(9360, 13)"
      ]
     },
     "execution_count": 4,
     "metadata": {},
     "output_type": "execute_result"
    }
   ],
   "source": [
    "data = data.dropna(axis=0)\n",
    "data.shape"
   ]
  },
  {
   "cell_type": "markdown",
   "metadata": {
    "id": "D0yl33rLa__D"
   },
   "source": [
    "Типы переменных в датасете до обработки"
   ]
  },
  {
   "cell_type": "code",
   "execution_count": 5,
   "metadata": {
    "colab": {
     "base_uri": "https://localhost:8080/"
    },
    "id": "JEpP9UOQOdge",
    "outputId": "4d78ac22-542e-4d9e-cfa2-e7836cfefa03"
   },
   "outputs": [
    {
     "data": {
      "text/plain": [
       "App                object\n",
       "Category           object\n",
       "Rating            float64\n",
       "Reviews            object\n",
       "Size               object\n",
       "Installs           object\n",
       "Type               object\n",
       "Price              object\n",
       "Content Rating     object\n",
       "Genres             object\n",
       "Last Updated       object\n",
       "Current Ver        object\n",
       "Android Ver        object\n",
       "dtype: object"
      ]
     },
     "execution_count": 5,
     "metadata": {},
     "output_type": "execute_result"
    }
   ],
   "source": [
    "data.dtypes"
   ]
  },
  {
   "cell_type": "markdown",
   "metadata": {
    "id": "kaQmKGxBbEwb"
   },
   "source": [
    "Кодируем категориальные признаки в числовые:"
   ]
  },
  {
   "cell_type": "code",
   "execution_count": 6,
   "metadata": {
    "colab": {
     "base_uri": "https://localhost:8080/"
    },
    "id": "mWbrRe_FOehO",
    "outputId": "f71dead3-1084-43e3-8e8d-defaf3e7dac7"
   },
   "outputs": [
    {
     "name": "stderr",
     "output_type": "stream",
     "text": [
      "C:\\Users\\igrun\\AppData\\Local\\Temp\\ipykernel_34356\\2551760661.py:2: SettingWithCopyWarning: \n",
      "A value is trying to be set on a copy of a slice from a DataFrame\n",
      "\n",
      "See the caveats in the documentation: https://pandas.pydata.org/pandas-docs/stable/user_guide/indexing.html#returning-a-view-versus-a-copy\n",
      "  data[\"Reviews\"].iloc[i] = int(data[\"Reviews\"].iloc[i])\n",
      "C:\\Users\\igrun\\AppData\\Local\\Temp\\ipykernel_34356\\2551760661.py:4: SettingWithCopyWarning: \n",
      "A value is trying to be set on a copy of a slice from a DataFrame\n",
      "\n",
      "See the caveats in the documentation: https://pandas.pydata.org/pandas-docs/stable/user_guide/indexing.html#returning-a-view-versus-a-copy\n",
      "  data[\"Installs\"].iloc[i] = int(str.replace(\",\", \"\"))\n",
      "C:\\Users\\igrun\\AppData\\Local\\Temp\\ipykernel_34356\\2551760661.py:9: SettingWithCopyWarning: \n",
      "A value is trying to be set on a copy of a slice from a DataFrame\n",
      "\n",
      "See the caveats in the documentation: https://pandas.pydata.org/pandas-docs/stable/user_guide/indexing.html#returning-a-view-versus-a-copy\n",
      "  data[\"Price\"].iloc[i] = 0\n",
      "C:\\Users\\igrun\\AppData\\Local\\Temp\\ipykernel_34356\\2551760661.py:6: SettingWithCopyWarning: \n",
      "A value is trying to be set on a copy of a slice from a DataFrame\n",
      "\n",
      "See the caveats in the documentation: https://pandas.pydata.org/pandas-docs/stable/user_guide/indexing.html#returning-a-view-versus-a-copy\n",
      "  data[\"Price\"].iloc[i] = data[\"Price\"].iloc[i][1:]\n",
      "C:\\Users\\igrun\\AppData\\Local\\Temp\\ipykernel_34356\\2551760661.py:7: SettingWithCopyWarning: \n",
      "A value is trying to be set on a copy of a slice from a DataFrame\n",
      "\n",
      "See the caveats in the documentation: https://pandas.pydata.org/pandas-docs/stable/user_guide/indexing.html#returning-a-view-versus-a-copy\n",
      "  data[\"Price\"].iloc[i] = float(data[\"Price\"].iloc[i])\n"
     ]
    }
   ],
   "source": [
    "for i in range(data.shape[0]):\n",
    "    data[\"Reviews\"].iloc[i] = int(data[\"Reviews\"].iloc[i])\n",
    "    str = data[\"Installs\"].iloc[i][:-1]\n",
    "    data[\"Installs\"].iloc[i] = int(str.replace(\",\", \"\"))\n",
    "    if data[\"Price\"].iloc[i] != \"0\":\n",
    "        data[\"Price\"].iloc[i] = data[\"Price\"].iloc[i][1:]\n",
    "        data[\"Price\"].iloc[i] = float(data[\"Price\"].iloc[i])\n",
    "    else:\n",
    "        data[\"Price\"].iloc[i] = 0\n",
    "data = data.astype({\"Reviews\": \"int64\"})\n",
    "data = data.astype({\"Installs\": \"int64\"})\n",
    "data = data.astype({\"Price\":\"float64\"})\n",
    "\n",
    "leType = LabelEncoder()\n",
    "le_arr = leType.fit_transform(data[\"Type\"])\n",
    "data[\"Type\"] = le_arr\n",
    "data = data.astype({\"Type\":\"int64\"})\n",
    "\n",
    "leContent = LabelEncoder()\n",
    "le_arr = leContent.fit_transform(data[\"Content Rating\"])\n",
    "data[\"Content Rating\"] = le_arr\n",
    "data[\"Content Rating\"].unique()\n",
    "data = data.astype({\"Content Rating\":\"int64\"})\n",
    "\n",
    "leCategory = LabelEncoder()\n",
    "le_arr = leCategory.fit_transform(data[\"Category\"])\n",
    "data[\"Category\"] = le_arr\n",
    "data[\"Category\"].unique()\n",
    "data = data.astype({\"Category\":\"int64\"})\n",
    "\n",
    "leGenres = LabelEncoder()\n",
    "le_arr = leGenres.fit_transform(data[\"Genres\"])\n",
    "data[\"Genres\"] = le_arr\n",
    "data[\"Genres\"].unique()\n",
    "data = data.astype({\"Genres\":\"int64\"})\n",
    "\n",
    "leSize = LabelEncoder()\n",
    "le_arr = leSize.fit_transform(data[\"Size\"])\n",
    "data[\"Size\"] = le_arr\n",
    "data[\"Size\"].unique()\n",
    "data = data.astype({\"Size\":\"int64\"})"
   ]
  },
  {
   "cell_type": "markdown",
   "metadata": {
    "id": "F70KBSiRbJUY"
   },
   "source": [
    "Название приложения, дата его обновления и версии андроида - признаки с большим количеством уникальных значений, не нужные для исследований. Удалим их."
   ]
  },
  {
   "cell_type": "code",
   "execution_count": 7,
   "metadata": {
    "id": "s7o2_Ug9RdX9"
   },
   "outputs": [],
   "source": [
    "data2 = data.drop([\"App\", \"Last Updated\", \"Current Ver\", \"Android Ver\"], axis=1)"
   ]
  },
  {
   "cell_type": "code",
   "execution_count": 8,
   "metadata": {
    "colab": {
     "base_uri": "https://localhost:8080/"
    },
    "id": "SSORuo18PbI7",
    "outputId": "b7cb465b-3b4c-4037-9f07-b8d556782220"
   },
   "outputs": [
    {
     "data": {
      "text/plain": [
       "Category            int64\n",
       "Rating            float64\n",
       "Reviews             int64\n",
       "Size                int64\n",
       "Installs            int64\n",
       "Type                int64\n",
       "Price             float64\n",
       "Content Rating      int64\n",
       "Genres              int64\n",
       "dtype: object"
      ]
     },
     "execution_count": 8,
     "metadata": {},
     "output_type": "execute_result"
    }
   ],
   "source": [
    "data2.dtypes"
   ]
  },
  {
   "cell_type": "markdown",
   "metadata": {
    "id": "RuExEKLObuj0"
   },
   "source": [
    "Построим матрицу корреляции:"
   ]
  },
  {
   "cell_type": "code",
   "execution_count": 9,
   "metadata": {
    "colab": {
     "base_uri": "https://localhost:8080/",
     "height": 548
    },
    "id": "_t8JuWp9PkOP",
    "outputId": "db2dc3f5-9165-4225-940a-6aa798c14a2f"
   },
   "outputs": [
    {
     "data": {
      "text/plain": [
       "<Axes: >"
      ]
     },
     "execution_count": 9,
     "metadata": {},
     "output_type": "execute_result"
    },
    {
     "data": {
      "image/png": "[encoded data removed]",
      "text/plain": [
       "<Figure size 1500x900 with 2 Axes>"
      ]
     },
     "metadata": {},
     "output_type": "display_data"
    }
   ],
   "source": [
    "fig, ax = plt.subplots(figsize=(15,9))\n",
    "sns.heatmap(data2.corr(method=\"pearson\"), ax=ax,annot=True, fmt=\".3f\", center=0)"
   ]
  },
  {
   "cell_type": "markdown",
   "metadata": {
    "id": "pQJZtoelbzuL"
   },
   "source": [
    "В качестве целевого признака возьмём столбец \"Genres\" - жанры игр в Google Play Store"
   ]
  },
  {
   "cell_type": "code",
   "execution_count": 10,
   "metadata": {
    "id": "hUHw8ANXQzjd"
   },
   "outputs": [],
   "source": [
    "#Разделение выборки на обучающую и тестовую\n",
    "target = \"Genres\"\n",
    "xArray = data2.drop(target, axis=1)\n",
    "yArray = data2[target]\n",
    "trainX, testX, trainY, testY = train_test_split(xArray, yArray, test_size=0.2, random_state=1)"
   ]
  },
  {
   "cell_type": "markdown",
   "metadata": {},
   "source": [
    "### Метод опорных векторов"
   ]
  },
  {
   "cell_type": "code",
   "execution_count": 11,
   "metadata": {},
   "outputs": [
    {
     "data": {
      "text/plain": [
       "array([68.09892979, 65.20483514, 64.89307112, ..., 64.90563683,\n",
       "       64.92133232, 64.89307672])"
      ]
     },
     "execution_count": 11,
     "metadata": {},
     "output_type": "execute_result"
    }
   ],
   "source": [
    "svr = svm.SVR()\n",
    "svr.fit(trainX, trainY)\n",
    "svr_pred = svr.predict(testX)\n",
    "svr_pred"
   ]
  },
  {
   "cell_type": "markdown",
   "metadata": {
    "id": "jR7Be4S6cO7d"
   },
   "source": [
    "### Градиентный бустинг для регрессии\n",
    "Будем использовать функцию GradientBoostingRegressor из библиотеки ScikitLearn"
   ]
  },
  {
   "cell_type": "code",
   "execution_count": 12,
   "metadata": {},
   "outputs": [
    {
     "data": {
      "text/plain": [
       "array([35.2449918 , 37.7562945 , 62.24301161, ..., 50.66982123,\n",
       "       52.66560839, 53.1279504 ])"
      ]
     },
     "execution_count": 12,
     "metadata": {},
     "output_type": "execute_result"
    }
   ],
   "source": [
    "grad_boost = GradientBoostingRegressor()\n",
    "grad_boost.fit(trainX, trainY.to_numpy().flatten())\n",
    "grad_boost_pred = grad_boost.predict(testX)\n",
    "grad_boost_pred"
   ]
  },
  {
   "cell_type": "markdown",
   "metadata": {},
   "source": [
    "Оценка моделей с использованием метрик среднеквадратичной ошибки (MSE) и коэффициента детерминации (R-squared)"
   ]
  },
  {
   "cell_type": "code",
   "execution_count": 13,
   "metadata": {},
   "outputs": [],
   "source": [
    "svr_mse = mean_squared_error(testY, svr_pred)\n",
    "svr_r2 = r2_score(testY, svr_pred)"
   ]
  },
  {
   "cell_type": "code",
   "execution_count": 14,
   "metadata": {},
   "outputs": [],
   "source": [
    "grad_boost_mse = mean_squared_error(testY, grad_boost_pred)\n",
    "grad_boost_r2 = r2_score(testY, grad_boost_pred)"
   ]
  },
  {
   "cell_type": "code",
   "execution_count": 15,
   "metadata": {},
   "outputs": [
    {
     "name": "stdout",
     "output_type": "stream",
     "text": [
      "SVR\n",
      "Mean Squared Error (MSE): 1089.57877001604\n",
      "R-squared: -0.0242368622337088\n"
     ]
    }
   ],
   "source": [
    "print(\"SVR\")\n",
    "print(\"Mean Squared Error (MSE):\", svr_mse)\n",
    "print(\"R-squared:\", svr_r2)"
   ]
  },
  {
   "cell_type": "code",
   "execution_count": 16,
   "metadata": {},
   "outputs": [
    {
     "name": "stdout",
     "output_type": "stream",
     "text": [
      "GradientBoosting\n",
      "Mean Squared Error (MSE): 299.91874908107786\n",
      "R-squared: 0.718067342226813\n"
     ]
    }
   ],
   "source": [
    "print(\"GradientBoosting\")\n",
    "print(\"Mean Squared Error (MSE):\", grad_boost_mse)\n",
    "print(\"R-squared:\", grad_boost_r2)"
   ]
  },
  {
   "cell_type": "markdown",
   "metadata": {},
   "source": [
    "Вывод: модель градиентного бустинга является более точной, так как у данной модели среднеквадратичная ошибка (MSE) меньше, чем у модели SVR, а коэффициент детерминации (R-squared) ближе к 1.\n"
   ]
  }
 ],
 "metadata": {
  "colab": {
   "collapsed_sections": [],
   "name": "RK2.ipynb",
   "provenance": []
  },
  "kernelspec": {
   "display_name": "Python 3 (ipykernel)",
   "language": "python",
   "name": "python3"
  },
  "language_info": {
   "codemirror_mode": {
    "name": "ipython",
    "version": 3
   },
   "file_extension": ".py",
   "mimetype": "text/x-python",
   "name": "python",
   "nbconvert_exporter": "python",
   "pygments_lexer": "ipython3",
   "version": "3.10.0"
  }
 },
 "nbformat": 4,
 "nbformat_minor": 1
}
